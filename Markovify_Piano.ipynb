{
  "nbformat": 4,
  "nbformat_minor": 0,
  "metadata": {
    "colab": {
      "name": "Markovify_Piano.ipynb",
      "private_outputs": true,
      "provenance": [],
      "collapsed_sections": [],
      "authorship_tag": "ABX9TyMIUq+AP5HFaCSeElkau5TC",
      "include_colab_link": true
    },
    "kernelspec": {
      "name": "python3",
      "display_name": "Python 3"
    }
  },
  "cells": [
    {
      "cell_type": "markdown",
      "metadata": {
        "id": "view-in-github",
        "colab_type": "text"
      },
      "source": [
        "<a href=\"https://colab.research.google.com/github/asigalov61/Markovify-Piano/blob/main/Markovify_Piano.ipynb\" target=\"_parent\"><img src=\"https://colab.research.google.com/assets/colab-badge.svg\" alt=\"Open In Colab\"/></a>"
      ]
    },
    {
      "cell_type": "markdown",
      "metadata": {
        "id": "EBSe4NI8ojlq"
      },
      "source": [
        "# Markovify Piano\r\n",
        "\r\n",
        "***\r\n",
        "\r\n",
        "## Based upon absolutely amazing markovify package of @jsvine: https://github.com/jsvine/markovify\r\n",
        "\r\n",
        "## Powered by tegridy-tools TMIDI 1.4 Processors\r\n",
        "\r\n",
        "***\r\n",
        "\r\n",
        "### Project Los Angeles\r\n",
        "### Tegridy Code 2021\r\n",
        "\r\n",
        "***"
      ]
    },
    {
      "cell_type": "markdown",
      "metadata": {
        "id": "kL_ZOMyDo_uS"
      },
      "source": [
        "# Setup environment"
      ]
    },
    {
      "cell_type": "code",
      "metadata": {
        "id": "EJFb1Z36RONl",
        "cellView": "form"
      },
      "source": [
        "#@title Install dependencies\n",
        "!git clone https://github.com/asigalov61/tegridy-tools\n",
        "!pip install unidecode\n",
        "!pip install tqdm\n",
        "!apt install fluidsynth #Pip does not work for some reason. Only apt works\n",
        "!pip install midi2audio"
      ],
      "execution_count": null,
      "outputs": []
    },
    {
      "cell_type": "code",
      "metadata": {
        "id": "dLmnUQ8cRX7n",
        "cellView": "form"
      },
      "source": [
        "#@title Load needed modules\n",
        "print('Loading needed modules. Please wait...')\n",
        "\n",
        "import sys\n",
        "import os\n",
        "import json\n",
        "\n",
        "os.chdir('/content/tegridy-tools/tegridy-tools/')\n",
        "import TMIDI\n",
        "import markovify\n",
        "os.chdir('/content/')\n",
        "\n",
        "from pprint import pprint\n",
        "\n",
        "import tqdm.auto\n",
        "\n",
        "from midi2audio import FluidSynth\n",
        "from IPython.display import display, Javascript, HTML, Audio\n",
        "\n",
        "from google.colab import output, drive\n",
        "\n",
        "print('Creating Dataset dir...')\n",
        "if not os.path.exists('/content/Dataset'):\n",
        "    os.makedirs('/content/Dataset')\n",
        "\n",
        "os.chdir('/content/')\n",
        "print('Loading complete. Enjoy! :)')"
      ],
      "execution_count": null,
      "outputs": []
    },
    {
      "cell_type": "markdown",
      "metadata": {
        "id": "jItW4Hl1pEYp"
      },
      "source": [
        "# Download/upload desired MIDI dataset\r\n",
        "\r\n",
        "## NOTE: Dataset must be sufficiently large and homogenous for Markov chain to train/perform properly."
      ]
    },
    {
      "cell_type": "code",
      "metadata": {
        "cellView": "form",
        "id": "Lxr4UbOJbo0C"
      },
      "source": [
        "#@title Download World Melody-ABC-Tunes MIDI dataset\r\n",
        "\r\n",
        "#@markdown Works best stand-alone/as-is for the optimal results\r\n",
        "%cd /content/Dataset/\r\n",
        "\r\n",
        "!wget --no-check-certificate -O Melody-ABC-Tunes-Dataset-CC-BY-NC-SA.zip \"https://onedrive.live.com/download?cid=8A0D502FC99C608F&resid=8A0D502FC99C608F%2118458&authkey=AOXe4AaDtageB-k\"\r\n",
        "!unzip -j '/content/Dataset/Melody-ABC-Tunes-Dataset-CC-BY-NC-SA.zip'\r\n",
        "!rm '/content/Dataset/Melody-ABC-Tunes-Dataset-CC-BY-NC-SA.zip'\r\n",
        "\r\n",
        "%cd /content/"
      ],
      "execution_count": null,
      "outputs": []
    },
    {
      "cell_type": "markdown",
      "metadata": {
        "id": "TL4yMfc_pTpZ"
      },
      "source": [
        "# Process the MIDI dataset\r\n",
        "\r\n",
        "## NOTE: If you are not sure what settings to select, please use original defaults"
      ]
    },
    {
      "cell_type": "code",
      "metadata": {
        "cellView": "form",
        "id": "-_mxofsMbtMd"
      },
      "source": [
        "#@title Process MIDIs to special MIDI dataset with Tegridy MIDI Processor\r\n",
        "#@markdown NOTES:\r\n",
        "\r\n",
        "#@markdown 1) Best results are achieved with the single-track, single-channel, single-instrument MIDI 0 files.\r\n",
        "\r\n",
        "#@markdown 2) MIDI Channel = -1 means all MIDI channels but drums will be processed. MIDI Channel = 16 means all channels will be processed. Otherwise, only single indicated MIDI channel will be processed.\r\n",
        "\r\n",
        "file_name_to_output_dataset_to = \"/content/Markovify-Piano-Music-MIDI-Dataset\" #@param {type:\"string\"}\r\n",
        "desired_MIDI_channel_to_process = 0 #@param {type:\"slider\", min:-1, max:15, step:1}\r\n",
        "\r\n",
        "MIDI_events_time_denominator = 10\r\n",
        "melody_notes_in_chords = True\r\n",
        "\r\n",
        "print('TMIDI Processor')\r\n",
        "print('Starting up...')\r\n",
        "\r\n",
        "###########\r\n",
        "\r\n",
        "average_note_pitch = 0\r\n",
        "min_note = 127\r\n",
        "max_note = 0\r\n",
        "\r\n",
        "files_count = 0\r\n",
        "\r\n",
        "ev = 0\r\n",
        "\r\n",
        "chords_list_f = []\r\n",
        "melody_list_f = []\r\n",
        "\r\n",
        "chords_list = []\r\n",
        "chords_count = 0\r\n",
        "\r\n",
        "melody_chords = []\r\n",
        "melody_count = 0\r\n",
        "\r\n",
        "###########\r\n",
        "\r\n",
        "print('Loading MIDI files...')\r\n",
        "print('This may take a while on a large dataset in particular.')\r\n",
        "\r\n",
        "dataset_addr = \"/content/Dataset/\"\r\n",
        "os.chdir(dataset_addr)\r\n",
        "filez = os.listdir(dataset_addr)\r\n",
        "\r\n",
        "print('Processing MIDI files. Please wait...')\r\n",
        "for f in tqdm.auto.tqdm(filez):\r\n",
        "  try:\r\n",
        "    files_count += 1\r\n",
        "    chords_list, melody = TMIDI.Tegridy_MIDI_Processor(f, \r\n",
        "                                                      desired_MIDI_channel_to_process, \r\n",
        "                                                      MIDI_events_time_denominator,\r\n",
        "                                                      )\r\n",
        "\r\n",
        "    fn = os.path.basename(f)\r\n",
        "    fno = fn.split('.')[0].replace(' ', '_')\r\n",
        "\r\n",
        "    chords_l, melody_l = TMIDI.Tegridy_Chords_Converter(chords_list, \r\n",
        "                                                        melody, \r\n",
        "                                                        fno, \r\n",
        "                                                        melody_notes_in_chords)\r\n",
        "    \r\n",
        "    chords_list_f.extend(chords_l)\r\n",
        "    melody_list_f.extend(melody_l)\r\n",
        "    chords_count += len(chords_list)\r\n",
        "    melody_count += len(melody_l)\r\n",
        "  \r\n",
        "  except:\r\n",
        "    print('Problematic MIDI:', f)\r\n",
        "    continue\r\n",
        "\r\n",
        "average_note_pitch = int((min_note + max_note) / 2)\r\n",
        "\r\n",
        "print('Task complete :)')\r\n",
        "print('==================================================')\r\n",
        "print('Number of processed dataset MIDI files:', files_count)\r\n",
        "print('Average note pitch =', average_note_pitch)\r\n",
        "#print('Min note pitch =', min_note)\r\n",
        "#print('Max note pitch =', max_note)\r\n",
        "#print('Number of MIDI events recorded:', len(events_matrix))\r\n",
        "print('Number of MIDI chords recorded:', chords_count)\r\n",
        "print('The longest chord:', len(max(chords_list_f, key=len)), 'notes') \r\n",
        "print(max(chords_list_f, key=len))\r\n",
        "print('Number of recorded melody events:', len(melody_list_f))\r\n",
        "print('First melody event:', melody_list_f[0], 'Last Melody event:', melody_list_f[-1])\r\n",
        "print('Total number of MIDI events recorded:', len(chords_list_f))\r\n",
        "\r\n",
        "# Dataset\r\n",
        "MusicDataset = [chords_list_f, melody_list_f]\r\n",
        "\r\n",
        "# Writing dataset to pickle file\r\n",
        "TMIDI.Tegridy_Pickle_File_Writer(MusicDataset, file_name_to_output_dataset_to)"
      ],
      "execution_count": null,
      "outputs": []
    },
    {
      "cell_type": "code",
      "metadata": {
        "cellView": "form",
        "id": "-OudAD_zbxmK"
      },
      "source": [
        "#@title Process MIDI Dataset to TXT Dataset (w/Tegridy MIDI-TXT Processor)\r\n",
        "full_path_to_TXT_dataset = \"/content/Markovify-Piano-Music-TXT-Dataset.txt\" #@param {type:\"string\"}\r\n",
        "simulate_velocity = True #@param {type:\"boolean\"}\r\n",
        "\r\n",
        "reduce_MIDI_channels = False\r\n",
        "reduce_notes_velocities = False\r\n",
        "line_by_line_dataset = True\r\n",
        "chords_durations_multiplier = 1\r\n",
        "\r\n",
        "# MIDI Dataset to txt dataset converter \r\n",
        "print('TMIDI-TXT Processor')\r\n",
        "print('Starting up...')\r\n",
        "\r\n",
        "if simulate_velocity:\r\n",
        "  print('Simulated velocity mode is enabled.')\r\n",
        "\r\n",
        "TXT = ''\r\n",
        "number_of_chords = 0\r\n",
        "number_of_bad_chords = 0\r\n",
        "dataset_name = 'DATASET=Intelligent_VIRTUOSO_TXT_Music_Dataset'\r\n",
        "\r\n",
        "TXT, number_of_chords, number_of_bad_chords = TMIDI.Tegridy_MIDI_TXT_Processor(dataset_name, \r\n",
        "                                                                               chords_list_f, \r\n",
        "                                                                               melody_list_f, \r\n",
        "                                                                               simulate_velocity, \r\n",
        "                                                                               line_by_line_dataset,\r\n",
        "                                                                               0,\r\n",
        "                                                                               chords_durations_multiplier,\r\n",
        "                                                                               )\r\n",
        "\r\n",
        "print('Number of chords recorded: ', number_of_chords)\r\n",
        "print('Number of bad/skipped chords: ', number_of_bad_chords)\r\n",
        "print('Done!')\r\n",
        "\r\n",
        "TXT1, n = TMIDI.Tegridy_TXT_Reducer(TXT, \r\n",
        "                                    include_MIDI_channels=reduce_MIDI_channels, \r\n",
        "                                    include_notes_velocities=reduce_notes_velocities,\r\n",
        "                                    line_by_line_output_dataset=False)\r\n",
        "\r\n",
        "TMIDI.Tegridy_TXT_Dataset_File_Writer(full_path_to_TXT_dataset, TXT_String=TXT1)"
      ],
      "execution_count": null,
      "outputs": []
    },
    {
      "cell_type": "markdown",
      "metadata": {
        "id": "JvW5hBgypjvG"
      },
      "source": [
        "# Load processed TXT MIDI dataset into memory"
      ]
    },
    {
      "cell_type": "code",
      "metadata": {
        "id": "obLoEFSyRf0A",
        "cellView": "form"
      },
      "source": [
        "#@title Load/Reload processed TXT dataset\n",
        "full_path_to_TXT_dataset = \"/content/Markovify-Piano-Music-TXT-Dataset.txt\" #@param {type:\"string\"}\n",
        "\n",
        "print('Loading TXT MIDI dataset. Please wait...')\n",
        "with open(full_path_to_TXT_dataset) as f:\n",
        "    text = f.read()\n",
        "print('Dataset loaded! Enjoy :)')    "
      ],
      "execution_count": null,
      "outputs": []
    },
    {
      "cell_type": "markdown",
      "metadata": {
        "id": "3OTxbIeNpqJX"
      },
      "source": [
        "# Train TXT Markov chain/model"
      ]
    },
    {
      "cell_type": "code",
      "metadata": {
        "id": "gwqWDKOqR4QF",
        "cellView": "form"
      },
      "source": [
        "#@title Train Markov-chain/model\n",
        "markov_chain_state_size = 4 #@param {type:\"slider\", min:1, max:10, step:1}\n",
        "\n",
        "print('Training Markov chain/model. Please wait...')\n",
        "markov_text_model = markovify.NewlineText(text, well_formed=False, state_size=markov_chain_state_size)\n",
        "\n",
        "print('Model is ready! Enjoy :)')"
      ],
      "execution_count": null,
      "outputs": []
    },
    {
      "cell_type": "code",
      "metadata": {
        "cellView": "form",
        "id": "Sf90eqSn9KXt"
      },
      "source": [
        "#@title Save the model\n",
        "full_path_to_json_save_file = \"/content/Markovify-Piano-Music-Model.json\" #@param {type:\"string\"}\n",
        "\n",
        "print('Converting model to json...')\n",
        "model_json = markov_text_model.to_json()\n",
        "\n",
        "print('Saving model as json file...')\n",
        "with open(full_path_to_json_save_file, 'w') as f:\n",
        "    json.dump(model_json, f)\n",
        "\n",
        "print('Task complete! Enjoy! :)')"
      ],
      "execution_count": null,
      "outputs": []
    },
    {
      "cell_type": "code",
      "metadata": {
        "cellView": "form",
        "id": "h4qjfAC-9WyU"
      },
      "source": [
        "#@title Load/Re-load saved model\r\n",
        "full_path_to_json_save_file = \"/content/Markovify-Piano-Music-Model.json\" #@param {type:\"string\"}\r\n",
        "\r\n",
        "print('Loading model from json file...')\r\n",
        "f = open(full_path_to_json_save_file)\r\n",
        "model_json = json.load(f)\r\n",
        "\r\n",
        "print('Restoring the model...')\r\n",
        "markov_text_model = markovify.Text.from_json(model_json)\r\n",
        "\r\n",
        "print('Model loaded and restored! Enjoy! :)')"
      ],
      "execution_count": null,
      "outputs": []
    },
    {
      "cell_type": "markdown",
      "metadata": {
        "id": "648zbZC4puqD"
      },
      "source": [
        "# Generate music composition"
      ]
    },
    {
      "cell_type": "code",
      "metadata": {
        "id": "MgTC2ybISJLe",
        "cellView": "form"
      },
      "source": [
        "#@title Generate Music\n",
        "\n",
        "#@markdown HINT: Each note = 3-5 characters depending on the MIDI processing settings above\n",
        "minimum_number_of_characters_to_generate = 5000 #@param {type:\"slider\", min:100, max:10000, step:100}\n",
        "number_of_cycles_to_try_to_generate_desired_result = 5000 #@param {type:\"slider\", min:10, max:10000, step:10}\n",
        "minimum_notes_to_generate = 210 #@param {type:\"slider\", min:10, max:1000, step:10}\n",
        "print_generated_song = False #@param {type:\"boolean\"}\n",
        "\n",
        "Output_TXT_String = ''\n",
        "\n",
        "attempt = 0\n",
        "\n",
        "print('Generating music composition. Please wait...')\n",
        "\n",
        "while (len(Output_TXT_String.split(' ')[1:])-2) < minimum_notes_to_generate:\n",
        "  out = markov_text_model.make_sentence(min_chars=minimum_number_of_characters_to_generate, \n",
        "                              tries=number_of_cycles_to_try_to_generate_desired_result)\n",
        "\n",
        "  Output_TXT_String = ''.join(out)\n",
        "  print('Attempt #', attempt)\n",
        "  attempt += 1\n",
        "\n",
        "print('Generation complete!')\n",
        "print('=' * 70)\n",
        "print(Output_TXT_String.split(' ')[0], 'with', len(Output_TXT_String.split(' ')[1:])-2, 'notes.')\n",
        "print('=' * 70)\n",
        "\n",
        "if print_generated_song:\n",
        "  pprint(Output_TXT_String)\n",
        "  print('=' * 70)"
      ],
      "execution_count": null,
      "outputs": []
    },
    {
      "cell_type": "markdown",
      "metadata": {
        "id": "S9i_kfkfp1Qr"
      },
      "source": [
        "# Convert generated music composition to MIDI file and download/listen to the output :)"
      ]
    },
    {
      "cell_type": "code",
      "metadata": {
        "cellView": "form",
        "id": "B8GWeSniWND1"
      },
      "source": [
        "#@title Convert generated song to MIDI\n",
        "download_generated_composition = False #@param {type:\"boolean\"}\n",
        "show_detailed_MIDI_stats = False #@param {type:\"boolean\"}\n",
        "\n",
        "print('Converting generated song from TXT to MIDI events...')\n",
        "SONG, SONG_Name = TMIDI.Tegridy_Reduced_TXT_to_Notes_Converter(Output_TXT_String, line_by_line_dataset=False, has_MIDI_channels=False, has_velocities=False)\n",
        "\n",
        "fname = TMIDI.Tegridy_File_Time_Stamp('/content/Markovify_Piano_Composition_Generated_on_')\n",
        "print('Composition', fname + '.mid')\n",
        "\n",
        "detailed_stats = TMIDI.Tegridy_SONG_to_MIDI_Converter(SONG=SONG, \n",
        "                                                      output_signature='Markovify_Piano',\n",
        "                                                      track_name=SONG_Name,\n",
        "                                                      output_file_name=fname)\n",
        "\n",
        "if download_generated_composition:\n",
        "  print('Downloading your composition now...')\n",
        "  from google.colab import files\n",
        "  files.download(fname + '.mid')\n",
        "\n",
        "if show_detailed_MIDI_stats:\n",
        "  print('Detailed MIDI stats:')\n",
        "  pprint(detailed_stats)"
      ],
      "execution_count": null,
      "outputs": []
    },
    {
      "cell_type": "code",
      "metadata": {
        "cellView": "form",
        "id": "tTc4mhBLe-TV"
      },
      "source": [
        "#@title Listen to the last generated composition\r\n",
        "#@markdown NOTE: May be very slow with the long compositions\r\n",
        "print('Synthesizing the last output MIDI. Please stand-by... ')\r\n",
        "FluidSynth(\"/usr/share/sounds/sf2/FluidR3_GM.sf2\", 16000).midi_to_audio(str(fname + '.mid'), str(fname + '.wav'))\r\n",
        "Audio(str(fname + '.wav'), rate=16000)"
      ],
      "execution_count": null,
      "outputs": []
    }
  ]
}